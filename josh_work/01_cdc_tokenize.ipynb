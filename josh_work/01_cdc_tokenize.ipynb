{
 "cells": [
  {
   "cell_type": "code",
   "execution_count": 1,
   "metadata": {},
   "outputs": [
    {
     "data": {
      "text/html": [
       "<style>.container { width:100% !important; }</style>"
      ],
      "text/plain": [
       "<IPython.core.display.HTML object>"
      ]
     },
     "metadata": {},
     "output_type": "display_data"
    }
   ],
   "source": [
    "from IPython.core.display import display, HTML\n",
    "display(HTML(\"<style>.container { width:100% !important; }</style>\"))"
   ]
  },
  {
   "cell_type": "code",
   "execution_count": 2,
   "metadata": {},
   "outputs": [],
   "source": [
    "import pandas as pd\n",
    "import numpy as np\n",
    "import matplotlib.pyplot as plt"
   ]
  },
  {
   "cell_type": "code",
   "execution_count": 3,
   "metadata": {},
   "outputs": [],
   "source": [
    "import gensim"
   ]
  },
  {
   "cell_type": "code",
   "execution_count": 14,
   "metadata": {},
   "outputs": [],
   "source": [
    "# import nltk\n",
    "# nltk.download()\n",
    "# # download punkt"
   ]
  },
  {
   "cell_type": "code",
   "execution_count": 4,
   "metadata": {},
   "outputs": [],
   "source": [
    "from nltk.tokenize import word_tokenize"
   ]
  },
  {
   "cell_type": "code",
   "execution_count": 6,
   "metadata": {
    "scrolled": false
   },
   "outputs": [
    {
     "data": {
      "text/html": [
       "<div>\n",
       "<style scoped>\n",
       "    .dataframe tbody tr th:only-of-type {\n",
       "        vertical-align: middle;\n",
       "    }\n",
       "\n",
       "    .dataframe tbody tr th {\n",
       "        vertical-align: top;\n",
       "    }\n",
       "\n",
       "    .dataframe thead th {\n",
       "        text-align: right;\n",
       "    }\n",
       "</style>\n",
       "<table border=\"1\" class=\"dataframe\">\n",
       "  <thead>\n",
       "    <tr style=\"text-align: right;\">\n",
       "      <th></th>\n",
       "      <th>text</th>\n",
       "      <th>sex</th>\n",
       "      <th>age</th>\n",
       "      <th>event</th>\n",
       "    </tr>\n",
       "  </thead>\n",
       "  <tbody>\n",
       "    <tr>\n",
       "      <td>0</td>\n",
       "      <td>57YOM WITH CONTUSION TO FACE AFTER STRIKING IT...</td>\n",
       "      <td>1</td>\n",
       "      <td>57</td>\n",
       "      <td>62</td>\n",
       "    </tr>\n",
       "    <tr>\n",
       "      <td>1</td>\n",
       "      <td>A 45YOM FELL ON ARM WHILE WORKING HAD SLIPPED ...</td>\n",
       "      <td>1</td>\n",
       "      <td>45</td>\n",
       "      <td>42</td>\n",
       "    </tr>\n",
       "    <tr>\n",
       "      <td>2</td>\n",
       "      <td>58YOM WITH CERVICAL STRAIN  BACK PAIN S P REST...</td>\n",
       "      <td>1</td>\n",
       "      <td>58</td>\n",
       "      <td>26</td>\n",
       "    </tr>\n",
       "    <tr>\n",
       "      <td>3</td>\n",
       "      <td>33 YOM LAC TO HAND FROM A RAZOR KNIFE</td>\n",
       "      <td>1</td>\n",
       "      <td>33</td>\n",
       "      <td>60</td>\n",
       "    </tr>\n",
       "    <tr>\n",
       "      <td>4</td>\n",
       "      <td>53YOM AT WORK IN A WAREHOUSE DOING UNSPECIFIED...</td>\n",
       "      <td>1</td>\n",
       "      <td>53</td>\n",
       "      <td>71</td>\n",
       "    </tr>\n",
       "  </tbody>\n",
       "</table>\n",
       "</div>"
      ],
      "text/plain": [
       "                                                text  sex  age  event\n",
       "0  57YOM WITH CONTUSION TO FACE AFTER STRIKING IT...    1   57     62\n",
       "1  A 45YOM FELL ON ARM WHILE WORKING HAD SLIPPED ...    1   45     42\n",
       "2  58YOM WITH CERVICAL STRAIN  BACK PAIN S P REST...    1   58     26\n",
       "3              33 YOM LAC TO HAND FROM A RAZOR KNIFE    1   33     60\n",
       "4  53YOM AT WORK IN A WAREHOUSE DOING UNSPECIFIED...    1   53     71"
      ]
     },
     "execution_count": 6,
     "metadata": {},
     "output_type": "execute_result"
    }
   ],
   "source": [
    "df = pd.read_csv('data/train.csv')\n",
    "df.head(5)"
   ]
  },
  {
   "cell_type": "code",
   "execution_count": 6,
   "metadata": {},
   "outputs": [],
   "source": [
    "# df['processed'] = df['text'].apply(gensim.utils.simple_preprocess)"
   ]
  },
  {
   "cell_type": "code",
   "execution_count": 7,
   "metadata": {},
   "outputs": [],
   "source": [
    "df['text_edit'] = df['text']"
   ]
  },
  {
   "cell_type": "code",
   "execution_count": 8,
   "metadata": {
    "scrolled": true
   },
   "outputs": [
    {
     "data": {
      "text/plain": [
       "['57YOM',\n",
       " 'WITH',\n",
       " 'CONTUSION',\n",
       " 'TO',\n",
       " 'FACE',\n",
       " 'AFTER',\n",
       " 'STRIKING',\n",
       " 'IT',\n",
       " 'WITH',\n",
       " 'A',\n",
       " 'POST',\n",
       " 'POUNDER',\n",
       " 'WHILE',\n",
       " 'SETTING',\n",
       " 'A',\n",
       " 'FENCE',\n",
       " 'POST']"
      ]
     },
     "execution_count": 8,
     "metadata": {},
     "output_type": "execute_result"
    }
   ],
   "source": [
    "word_tokenize(df.loc[0,'text_edit'])"
   ]
  },
  {
   "cell_type": "code",
   "execution_count": 9,
   "metadata": {},
   "outputs": [],
   "source": [
    "df['text_edit'] = df['text'].str.lower()"
   ]
  },
  {
   "cell_type": "code",
   "execution_count": 10,
   "metadata": {},
   "outputs": [],
   "source": [
    "df['text_edit'] = df['text_edit'].str.replace('\\d+','')"
   ]
  },
  {
   "cell_type": "code",
   "execution_count": 11,
   "metadata": {},
   "outputs": [],
   "source": [
    "import string"
   ]
  },
  {
   "cell_type": "code",
   "execution_count": 12,
   "metadata": {},
   "outputs": [
    {
     "data": {
      "text/plain": [
       "'!\"#$%&\\'()*+,-./:;<=>?@[\\\\]^_`{|}~'"
      ]
     },
     "execution_count": 12,
     "metadata": {},
     "output_type": "execute_result"
    }
   ],
   "source": [
    "string.punctuation"
   ]
  },
  {
   "cell_type": "markdown",
   "metadata": {},
   "source": [
    "No punctuation"
   ]
  },
  {
   "cell_type": "code",
   "execution_count": 13,
   "metadata": {
    "scrolled": true
   },
   "outputs": [
    {
     "data": {
      "text/plain": [
       "0"
      ]
     },
     "execution_count": 13,
     "metadata": {},
     "output_type": "execute_result"
    }
   ],
   "source": [
    "np.sum(df['text_edit'].isin(list(string.punctuation)))"
   ]
  },
  {
   "cell_type": "markdown",
   "metadata": {},
   "source": [
    "### Create list of tokens to filter out later"
   ]
  },
  {
   "cell_type": "code",
   "execution_count": 14,
   "metadata": {
    "scrolled": true
   },
   "outputs": [],
   "source": [
    "df['text_edit'] = df['text_edit'].apply(word_tokenize)"
   ]
  },
  {
   "cell_type": "code",
   "execution_count": 15,
   "metadata": {},
   "outputs": [
    {
     "data": {
      "text/html": [
       "<div>\n",
       "<style scoped>\n",
       "    .dataframe tbody tr th:only-of-type {\n",
       "        vertical-align: middle;\n",
       "    }\n",
       "\n",
       "    .dataframe tbody tr th {\n",
       "        vertical-align: top;\n",
       "    }\n",
       "\n",
       "    .dataframe thead th {\n",
       "        text-align: right;\n",
       "    }\n",
       "</style>\n",
       "<table border=\"1\" class=\"dataframe\">\n",
       "  <thead>\n",
       "    <tr style=\"text-align: right;\">\n",
       "      <th></th>\n",
       "      <th>text</th>\n",
       "      <th>sex</th>\n",
       "      <th>age</th>\n",
       "      <th>event</th>\n",
       "      <th>text_edit</th>\n",
       "    </tr>\n",
       "  </thead>\n",
       "  <tbody>\n",
       "    <tr>\n",
       "      <td>0</td>\n",
       "      <td>57YOM WITH CONTUSION TO FACE AFTER STRIKING IT...</td>\n",
       "      <td>1</td>\n",
       "      <td>57</td>\n",
       "      <td>62</td>\n",
       "      <td>[yom, with, contusion, to, face, after, striki...</td>\n",
       "    </tr>\n",
       "    <tr>\n",
       "      <td>1</td>\n",
       "      <td>A 45YOM FELL ON ARM WHILE WORKING HAD SLIPPED ...</td>\n",
       "      <td>1</td>\n",
       "      <td>45</td>\n",
       "      <td>42</td>\n",
       "      <td>[a, yom, fell, on, arm, while, working, had, s...</td>\n",
       "    </tr>\n",
       "    <tr>\n",
       "      <td>2</td>\n",
       "      <td>58YOM WITH CERVICAL STRAIN  BACK PAIN S P REST...</td>\n",
       "      <td>1</td>\n",
       "      <td>58</td>\n",
       "      <td>26</td>\n",
       "      <td>[yom, with, cervical, strain, back, pain, s, p...</td>\n",
       "    </tr>\n",
       "    <tr>\n",
       "      <td>3</td>\n",
       "      <td>33 YOM LAC TO HAND FROM A RAZOR KNIFE</td>\n",
       "      <td>1</td>\n",
       "      <td>33</td>\n",
       "      <td>60</td>\n",
       "      <td>[yom, lac, to, hand, from, a, razor, knife]</td>\n",
       "    </tr>\n",
       "    <tr>\n",
       "      <td>4</td>\n",
       "      <td>53YOM AT WORK IN A WAREHOUSE DOING UNSPECIFIED...</td>\n",
       "      <td>1</td>\n",
       "      <td>53</td>\n",
       "      <td>71</td>\n",
       "      <td>[yom, at, work, in, a, warehouse, doing, unspe...</td>\n",
       "    </tr>\n",
       "  </tbody>\n",
       "</table>\n",
       "</div>"
      ],
      "text/plain": [
       "                                                text  sex  age  event  \\\n",
       "0  57YOM WITH CONTUSION TO FACE AFTER STRIKING IT...    1   57     62   \n",
       "1  A 45YOM FELL ON ARM WHILE WORKING HAD SLIPPED ...    1   45     42   \n",
       "2  58YOM WITH CERVICAL STRAIN  BACK PAIN S P REST...    1   58     26   \n",
       "3              33 YOM LAC TO HAND FROM A RAZOR KNIFE    1   33     60   \n",
       "4  53YOM AT WORK IN A WAREHOUSE DOING UNSPECIFIED...    1   53     71   \n",
       "\n",
       "                                           text_edit  \n",
       "0  [yom, with, contusion, to, face, after, striki...  \n",
       "1  [a, yom, fell, on, arm, while, working, had, s...  \n",
       "2  [yom, with, cervical, strain, back, pain, s, p...  \n",
       "3        [yom, lac, to, hand, from, a, razor, knife]  \n",
       "4  [yom, at, work, in, a, warehouse, doing, unspe...  "
      ]
     },
     "execution_count": 15,
     "metadata": {},
     "output_type": "execute_result"
    }
   ],
   "source": [
    "df.head()"
   ]
  },
  {
   "cell_type": "markdown",
   "metadata": {},
   "source": [
    "Stem words"
   ]
  },
  {
   "cell_type": "code",
   "execution_count": 16,
   "metadata": {},
   "outputs": [],
   "source": [
    "from nltk.stem.porter import PorterStemmer\n",
    "porter = PorterStemmer()"
   ]
  },
  {
   "cell_type": "code",
   "execution_count": 17,
   "metadata": {},
   "outputs": [],
   "source": [
    "def series_stemmer(x):\n",
    "    return list(map(porter.stem,x))"
   ]
  },
  {
   "cell_type": "code",
   "execution_count": 18,
   "metadata": {
    "scrolled": true
   },
   "outputs": [],
   "source": [
    "df['text_edit'] = df['text_edit'].apply(series_stemmer)"
   ]
  },
  {
   "cell_type": "code",
   "execution_count": 19,
   "metadata": {
    "scrolled": true
   },
   "outputs": [
    {
     "data": {
      "text/plain": [
       "0     [yom, with, contus, to, face, after, strike, i...\n",
       "1     [a, yom, fell, on, arm, while, work, had, slip...\n",
       "2     [yom, with, cervic, strain, back, pain, s, p, ...\n",
       "3           [yom, lac, to, hand, from, a, razor, knife]\n",
       "4     [yom, at, work, in, a, warehous, do, unspecifi...\n",
       "5     [yom, at, a, client, home, trim, a, tree, with...\n",
       "6     [yo, male, cut, finger, sharpen, a, knife, at,...\n",
       "7     [yom, state, he, wa, work, in, a, wood, shop, ...\n",
       "8     [yo, m, c, o, b, l, back, pain, sinc, fri, wor...\n",
       "9     [yof, shoulder, pain, after, lift, a, packag, ...\n",
       "10    [yom, cellul, to, lt, knee, report, go, up, an...\n",
       "11    [yom, hurt, hand, hit, with, screwdriv, dx, pu...\n",
       "12    [yom, knee, pain, at, work, crouch, down, when...\n",
       "13    [yo, f, work, at, hospit, attempt, to, get, a,...\n",
       "14    [yom, lac, to, r, arm, while, use, a, sheetroc...\n",
       "15    [yom, fx, nose, s, p, assault, by, client, at,...\n",
       "16    [yom, at, work, use, a, floor, buffer, and, su...\n",
       "17    [yom, fell, at, work, from, scaffold, dx, shou...\n",
       "18    [yof, dx, lt, thumb, sprain, strain, s, p, due...\n",
       "19    [yf, report, alway, heavi, lift, work, nowwith...\n",
       "Name: text_edit, dtype: object"
      ]
     },
     "execution_count": 19,
     "metadata": {},
     "output_type": "execute_result"
    }
   ],
   "source": [
    "df['text_edit'].head(20)"
   ]
  },
  {
   "cell_type": "code",
   "execution_count": 20,
   "metadata": {},
   "outputs": [
    {
     "data": {
      "text/plain": [
       "text         23YOM LAC TO R ARM WHILE USING A SHEETROCK KNI...\n",
       "sex                                                          1\n",
       "age                                                         23\n",
       "event                                                       62\n",
       "text_edit    [yom, lac, to, r, arm, while, use, a, sheetroc...\n",
       "Name: 14, dtype: object"
      ]
     },
     "execution_count": 20,
     "metadata": {},
     "output_type": "execute_result"
    }
   ],
   "source": [
    "df.loc[14]"
   ]
  },
  {
   "cell_type": "code",
   "execution_count": 21,
   "metadata": {},
   "outputs": [
    {
     "data": {
      "text/plain": [
       "['yom', 'lac', 'to', 'hand', 'from', 'a', 'razor', 'knife']"
      ]
     },
     "execution_count": 21,
     "metadata": {},
     "output_type": "execute_result"
    }
   ],
   "source": [
    "df.loc[3,'text_edit']"
   ]
  },
  {
   "cell_type": "markdown",
   "metadata": {},
   "source": [
    "Remove stop words"
   ]
  },
  {
   "cell_type": "code",
   "execution_count": 23,
   "metadata": {},
   "outputs": [],
   "source": [
    "# import nltk\n",
    "# nltk.download()"
   ]
  },
  {
   "cell_type": "code",
   "execution_count": 25,
   "metadata": {
    "scrolled": false
   },
   "outputs": [
    {
     "name": "stdout",
     "output_type": "stream",
     "text": [
      "{'each', \"weren't\", 'needn', 'that', 'm', 'ma', 'don', \"hasn't\", 'yourself', 'most', 'when', 'y', 'about', 'to', 'couldn', \"that'll\", 'hasn', \"you'd\", 'am', 'you', 'yours', 'weren', 'are', 'should', 'or', 'me', 'up', 'her', 'than', 'because', 'll', 'wouldn', 'ourselves', 'those', 'while', 'where', 'the', 'it', 'they', 'then', 've', 'will', 'why', 'both', 'i', 'had', 'for', 'can', 'from', \"mustn't\", \"shan't\", 'hers', \"you'll\", 'whom', 'until', 'of', 'after', 'ain', 'she', 'an', 'which', 'very', 'out', 'own', 'before', 'themselves', 'be', 'how', 'himself', \"it's\", \"mightn't\", \"hadn't\", 'over', 'herself', \"should've\", 'd', \"wasn't\", 'were', 's', 'he', 'with', 'doing', 'between', 'them', 'all', 'hadn', 'but', 'under', 'our', 'and', 'haven', \"haven't\", 'my', 'once', 'has', 'below', 'only', 'wasn', 'yourselves', 'above', 'theirs', \"don't\", 'isn', \"won't\", 'there', 'is', 'aren', 'didn', 'same', 'what', 'been', 'too', 'not', 'myself', 'do', 'some', 'these', 'who', 're', 'having', 'off', 'again', 'by', 'nor', 'doesn', 'few', 'through', 'o', 'a', 'in', 'mustn', 'shouldn', 'does', 'here', 'at', 'ours', 'have', 'further', \"shouldn't\", 'shan', 'this', 'their', \"aren't\", 'mightn', 'so', 'on', 'him', 'his', 'such', 'its', 'other', 'your', 'we', \"you've\", 'any', \"didn't\", 'more', \"couldn't\", 'if', 'did', 'just', 'now', 'as', 'during', \"doesn't\", 'against', 'being', \"isn't\", \"needn't\", 'no', \"she's\", 'won', 'down', \"you're\", 'itself', 'into', 'was', \"wouldn't\", 't'}\n"
     ]
    }
   ],
   "source": [
    "from nltk.corpus import stopwords\n",
    "stop_words = set(stopwords.words('english'))\n",
    "print(stop_words)"
   ]
  },
  {
   "cell_type": "code",
   "execution_count": 23,
   "metadata": {},
   "outputs": [],
   "source": [
    "# len(stop_words)"
   ]
  },
  {
   "cell_type": "code",
   "execution_count": 24,
   "metadata": {},
   "outputs": [],
   "source": [
    "# print(list(map(porter.stem,stop_words)))"
   ]
  },
  {
   "cell_type": "code",
   "execution_count": 26,
   "metadata": {},
   "outputs": [],
   "source": [
    "def series_stop_words(x):\n",
    "    return [w for w in x if not w in stop_words]"
   ]
  },
  {
   "cell_type": "code",
   "execution_count": 27,
   "metadata": {},
   "outputs": [
    {
     "name": "stdout",
     "output_type": "stream",
     "text": [
      "CPU times: user 454 ms, sys: 20 µs, total: 454 ms\n",
      "Wall time: 453 ms\n"
     ]
    }
   ],
   "source": [
    "%%time\n",
    "df['text_edit'] = df['text_edit'].apply(series_stop_words)"
   ]
  },
  {
   "cell_type": "code",
   "execution_count": 28,
   "metadata": {},
   "outputs": [
    {
     "data": {
      "text/plain": [
       "0     [yom, contus, face, strike, post, pounder, set...\n",
       "1        [yom, fell, arm, work, slip, water, fx, wrist]\n",
       "2     [yom, cervic, strain, back, pain, p, restrain,...\n",
       "3                        [yom, lac, hand, razor, knife]\n",
       "4     [yom, work, warehous, unspecifi, lift, strain,...\n",
       "5     [yom, client, home, trim, tree, chain, saw, sa...\n",
       "6     [yo, male, cut, finger, sharpen, knife, work, ...\n",
       "7     [yom, state, wa, work, wood, shop, yesterday, ...\n",
       "8     [yo, c, b, l, back, pain, sinc, fri, wors, tod...\n",
       "9             [yof, shoulder, pain, lift, packag, work]\n",
       "10    [yom, cellul, lt, knee, report, go, ladder, pa...\n",
       "11    [yom, hurt, hand, hit, screwdriv, dx, punnc, h...\n",
       "12    [yom, knee, pain, work, crouch, stood, felt, p...\n",
       "13    [yo, f, work, hospit, attempt, get, blood, sug...\n",
       "14    [yom, lac, r, arm, use, sheetrock, knife, work...\n",
       "15    [yom, fx, nose, p, assault, client, work, stru...\n",
       "16    [yom, work, use, floor, buffer, sustain, amput...\n",
       "17    [yom, fell, work, scaffold, dx, shoulder, disloc]\n",
       "18    [yof, dx, lt, thumb, sprain, strain, p, due, a...\n",
       "19    [yf, report, alway, heavi, lift, work, nowwith...\n",
       "Name: text_edit, dtype: object"
      ]
     },
     "execution_count": 28,
     "metadata": {},
     "output_type": "execute_result"
    }
   ],
   "source": [
    "df['text_edit'].head(20)"
   ]
  },
  {
   "cell_type": "markdown",
   "metadata": {},
   "source": [
    "Count tokens"
   ]
  },
  {
   "cell_type": "code",
   "execution_count": 29,
   "metadata": {},
   "outputs": [],
   "source": [
    "from collections import Counter"
   ]
  },
  {
   "cell_type": "code",
   "execution_count": 30,
   "metadata": {},
   "outputs": [],
   "source": [
    "token_cnt = Counter()"
   ]
  },
  {
   "cell_type": "code",
   "execution_count": 31,
   "metadata": {},
   "outputs": [],
   "source": [
    "for _,x in df['text_edit'].iteritems():\n",
    "    token_cnt.update(x)"
   ]
  },
  {
   "cell_type": "code",
   "execution_count": 32,
   "metadata": {},
   "outputs": [
    {
     "data": {
      "text/plain": [
       "[('work', 120854),\n",
       " ('dx', 76990),\n",
       " ('yom', 76629),\n",
       " ('pain', 52079),\n",
       " ('yof', 41405),\n",
       " ('finger', 31477),\n",
       " ('back', 30057),\n",
       " ('wa', 29725),\n",
       " ('fell', 22587),\n",
       " ('c', 21614),\n",
       " ('hand', 21598),\n",
       " ('strain', 21292),\n",
       " ('lift', 18998),\n",
       " ('pt', 17881),\n",
       " ('knee', 16612),\n",
       " ('lac', 16037),\n",
       " ('rt', 14469),\n",
       " ('shoulder', 14173),\n",
       " ('cut', 13849),\n",
       " ('hit', 13812),\n",
       " ('yo', 13787),\n",
       " ('contus', 13749),\n",
       " ('head', 13721),\n",
       " ('w', 12762),\n",
       " ('lt', 12340),\n",
       " ('hi', 12297),\n",
       " ('lacer', 12060),\n",
       " ('sprain', 11945),\n",
       " ('p', 11338),\n",
       " ('lower', 11274),\n",
       " ('l', 11196),\n",
       " ('eye', 11138),\n",
       " ('heavi', 10582),\n",
       " ('foot', 10323),\n",
       " ('r', 10082),\n",
       " ('wrist', 9657),\n",
       " ('ankl', 9345),\n",
       " ('ym', 9196),\n",
       " ('injuri', 9142),\n",
       " ('low', 8767),\n",
       " ('arm', 8086),\n",
       " ('metal', 7498),\n",
       " ('left', 7418),\n",
       " ('slip', 7372),\n",
       " ('fx', 7231),\n",
       " ('leg', 7091),\n",
       " ('fall', 6880),\n",
       " ('got', 6873),\n",
       " ('day', 6500),\n",
       " ('thumb', 6475),\n",
       " ('patient', 6463),\n",
       " ('box', 6216),\n",
       " ('yf', 6118),\n",
       " ('neck', 6105),\n",
       " ('use', 5882),\n",
       " ('face', 5856),\n",
       " ('chest', 5736),\n",
       " ('injur', 5565),\n",
       " ('subject', 5559),\n",
       " ('burn', 5447),\n",
       " ('f', 5429),\n",
       " ('right', 5409),\n",
       " ('onto', 5404),\n",
       " ('state', 5355),\n",
       " ('needl', 5257),\n",
       " ('floor', 5151),\n",
       " ('lumbar', 5147),\n",
       " ('ago', 5128),\n",
       " ('truck', 4779),\n",
       " ('today', 4725),\n",
       " ('elbow', 4688),\n",
       " ('abras', 4652),\n",
       " ('sustain', 4556),\n",
       " ('report', 4442),\n",
       " ('piec', 4378),\n",
       " ('twist', 4307),\n",
       " ('forearm', 4282),\n",
       " ('caught', 4174),\n",
       " ('felt', 4140),\n",
       " ('knife', 3971),\n",
       " ('x', 3861),\n",
       " ('step', 3655),\n",
       " ('fractur', 3589),\n",
       " ('struck', 3532),\n",
       " ('exposur', 3517),\n",
       " ('stuck', 3516),\n",
       " ('trip', 3485),\n",
       " ('upper', 3469),\n",
       " ('punctur', 3468),\n",
       " ('door', 3336),\n",
       " ('move', 3300),\n",
       " ('acc', 3251),\n",
       " ('develop', 3237),\n",
       " ('pull', 3233),\n",
       " ('car', 3180),\n",
       " ('male', 3169),\n",
       " ('loc', 3112),\n",
       " ('wall', 3105),\n",
       " ('ha', 3090),\n",
       " ('fb', 3059),\n",
       " ('inj', 3031),\n",
       " ('ladder', 3028),\n",
       " ('bodi', 3019),\n",
       " ('index', 2852),\n",
       " ('someth', 2786),\n",
       " ('machin', 2784),\n",
       " ('hip', 2731),\n",
       " ('cont', 2729),\n",
       " ('land', 2725),\n",
       " ('assault', 2684),\n",
       " ('tri', 2669),\n",
       " ('yesterday', 2657),\n",
       " ('walk', 2653),\n",
       " ('lbp', 2629),\n",
       " ('st', 2587),\n",
       " ('hurt', 2571),\n",
       " ('wk', 2563),\n",
       " ('job', 2537),\n",
       " ('clean', 2522),\n",
       " ('side', 2459),\n",
       " ('b', 2452),\n",
       " ('bite', 2432),\n",
       " ('toe', 2415),\n",
       " ('acut', 2407),\n",
       " ('crush', 2405),\n",
       " ('object', 2392),\n",
       " ('construct', 2389),\n",
       " ('wound', 2381),\n",
       " ('th', 2362),\n",
       " ('get', 2361),\n",
       " ('nail', 2338),\n",
       " ('swell', 2336),\n",
       " ('corneal', 2304),\n",
       " ('close', 2290),\n",
       " ('muscl', 2277),\n",
       " ('driver', 2237),\n",
       " ('rib', 2234),\n",
       " ('pw', 2233),\n",
       " ('stick', 2199),\n",
       " ('open', 2193),\n",
       " ('chemic', 2190),\n",
       " ('sust', 2182),\n",
       " ('pop', 2180),\n",
       " ('start', 2134),\n",
       " ('accident', 2055),\n",
       " ('glass', 2041),\n",
       " ('ms', 2040),\n",
       " ('lot', 2020),\n",
       " ('offic', 2003),\n",
       " ('fluid', 1989),\n",
       " ('push', 1924),\n",
       " ('nd', 1922),\n",
       " ('thigh', 1915),\n",
       " ('hot', 1911),\n",
       " ('stand', 1909),\n",
       " ('saw', 1899),\n",
       " ('drop', 1851),\n",
       " ('week', 1813),\n",
       " ('fire', 1794),\n",
       " ('doe', 1785),\n",
       " ('went', 1783),\n",
       " ('heat', 1752),\n",
       " ('concuss', 1751),\n",
       " ('femal', 1739),\n",
       " ('feet', 1734),\n",
       " ('splash', 1712),\n",
       " ('facial', 1701),\n",
       " ('dog', 1684),\n",
       " ('blood', 1657),\n",
       " ('carri', 1636),\n",
       " ('scalp', 1633),\n",
       " ('restrain', 1620),\n",
       " ('middl', 1597),\n",
       " ('home', 1578),\n",
       " ('wear', 1567),\n",
       " ('bend', 1561),\n",
       " ('employe', 1543),\n",
       " ('cart', 1543),\n",
       " ('thi', 1537),\n",
       " ('pta', 1514),\n",
       " ('water', 1501),\n",
       " ('roll', 1473),\n",
       " ('pipe', 1470),\n",
       " ('sinc', 1465),\n",
       " ('wet', 1452),\n",
       " ('stair', 1451),\n",
       " ('ft', 1433),\n",
       " ('pick', 1433),\n",
       " ('caus', 1414),\n",
       " ('ice', 1412),\n",
       " ('lb', 1408),\n",
       " ('last', 1402),\n",
       " ('site', 1399),\n",
       " ('punch', 1387),\n",
       " ('bag', 1382),\n",
       " ('rd', 1378),\n",
       " ('worker', 1355),\n",
       " ('rash', 1347),\n",
       " ('chi', 1339),\n",
       " ('kick', 1329),\n",
       " ('unspecifi', 1328),\n",
       " ('tabl', 1314),\n",
       " ('pallet', 1308),\n",
       " ('polic', 1307),\n",
       " ('er', 1300),\n",
       " ('wood', 1291),\n",
       " ('client', 1288),\n",
       " ('avuls', 1282),\n",
       " ('self', 1263),\n",
       " ('chair', 1256),\n",
       " ('due', 1255),\n",
       " ('equip', 1239),\n",
       " ('bit', 1200),\n",
       " ('cervic', 1193),\n",
       " ('co', 1183),\n",
       " ('mvc', 1173),\n",
       " ('sciatica', 1169),\n",
       " ('began', 1161),\n",
       " ('concret', 1158),\n",
       " ('remov', 1154),\n",
       " ('drive', 1146),\n",
       " ('yowm', 1140),\n",
       " ('headach', 1134),\n",
       " ('ground', 1133),\n",
       " ('glove', 1115),\n",
       " ('bed', 1115),\n",
       " ('roof', 1114),\n",
       " ('bitten', 1109),\n",
       " ('help', 1104),\n",
       " ('steel', 1100),\n",
       " ('bu', 1077),\n",
       " ('present', 1054),\n",
       " ('forehead', 1050),\n",
       " ('put', 1048),\n",
       " ('cutter', 1046),\n",
       " ('forklift', 1046),\n",
       " ('meat', 1037),\n",
       " ('amput', 1035),\n",
       " ('foreign', 1033),\n",
       " ('broke', 1032),\n",
       " ('cellul', 1030),\n",
       " ('dure', 1027),\n",
       " ('tree', 1025),\n",
       " ('dev', 1025),\n",
       " ('sharp', 1022),\n",
       " ('school', 1019),\n",
       " ('su', 1008),\n",
       " ('fight', 1002),\n",
       " ('slicer', 1002),\n",
       " ('expos', 998),\n",
       " ('inhal', 994),\n",
       " ('abd', 987),\n",
       " ('thorac', 978),\n",
       " ('tendon', 974),\n",
       " ('trauma', 974),\n",
       " ('tip', 970),\n",
       " ('disloc', 970),\n",
       " ('groin', 969),\n",
       " ('hr', 966),\n",
       " ('contact', 958),\n",
       " ('spasm', 957),\n",
       " ('time', 945),\n",
       " ('food', 945),\n",
       " ('larg', 943),\n",
       " ('electr', 933),\n",
       " ('hospit', 932),\n",
       " ('trash', 931),\n",
       " ('sever', 929),\n",
       " ('degre', 912),\n",
       " ('red', 910),\n",
       " ('hammer', 903),\n",
       " ('ed', 893),\n",
       " ('turn', 887),\n",
       " ('drill', 885),\n",
       " ('dizzi', 866),\n",
       " ('strike', 865),\n",
       " ('shelf', 864),\n",
       " ('hous', 861),\n",
       " ('ring', 860),\n",
       " ('hematoma', 859),\n",
       " ('lip', 858),\n",
       " ('scratch', 855),\n",
       " ('farm', 845),\n",
       " ('blade', 845),\n",
       " ('came', 842),\n",
       " ('anoth', 841),\n",
       " ('go', 839),\n",
       " ('top', 837),\n",
       " ('new', 835),\n",
       " ('digit', 822),\n",
       " ('exhaust', 822),\n",
       " ('tire', 819),\n",
       " ('load', 817),\n",
       " ('suspect', 815),\n",
       " ('jump', 813),\n",
       " ('nurs', 811),\n",
       " ('buttock', 811),\n",
       " ('alot', 811),\n",
       " ('grinder', 808),\n",
       " ('backward', 806),\n",
       " ('long', 802),\n",
       " ('alterc', 789),\n",
       " ('run', 787),\n",
       " ('human', 772),\n",
       " ('gun', 770),\n",
       " ('contain', 767),\n",
       " ('ran', 766),\n",
       " ('mva', 766),\n",
       " ('area', 763),\n",
       " ('outsid', 763),\n",
       " ('student', 757),\n",
       " ('dermat', 749),\n",
       " ('cm', 747),\n",
       " ('dirti', 742),\n",
       " ('night', 741),\n",
       " ('bent', 741),\n",
       " ('take', 737),\n",
       " ('wash', 735),\n",
       " ('one', 733),\n",
       " ('attempt', 729),\n",
       " ('worsen', 723),\n",
       " ('nose', 721),\n",
       " ('wire', 721),\n",
       " ('needlestick', 718),\n",
       " ('tractor', 718),\n",
       " ('someon', 717),\n",
       " ('resid', 707),\n",
       " ('weld', 705),\n",
       " ('repetit', 705),\n",
       " ('garbag', 705),\n",
       " ('trailer', 695),\n",
       " ('ear', 693),\n",
       " ('hx', 693),\n",
       " ('onset', 685),\n",
       " ('around', 682),\n",
       " ('grab', 680),\n",
       " ('thru', 677),\n",
       " ('arrest', 676),\n",
       " ('break', 676),\n",
       " ('bar', 672),\n",
       " ('accid', 669),\n",
       " ('yowf', 666),\n",
       " ('ct', 665),\n",
       " ('calf', 662),\n",
       " ('sit', 660),\n",
       " ('admit', 657),\n",
       " ('shot', 654),\n",
       " ('park', 650),\n",
       " ('spill', 650),\n",
       " ('window', 648),\n",
       " ('expo', 647),\n",
       " ('abdomin', 646),\n",
       " ('tray', 645),\n",
       " ('grind', 645),\n",
       " ('radiat', 640),\n",
       " ('pole', 639),\n",
       " ('sheet', 636),\n",
       " ('complain', 635),\n",
       " ('train', 634),\n",
       " ('mechan', 633),\n",
       " ('skin', 632),\n",
       " ('part', 631),\n",
       " ('broken', 631),\n",
       " ('scaffold', 627),\n",
       " ('flew', 623),\n",
       " ('h', 623),\n",
       " ('wors', 610),\n",
       " ('reach', 609),\n",
       " ('sudden', 607),\n",
       " ('power', 604),\n",
       " ('pn', 600),\n",
       " ('smash', 590),\n",
       " ('ytd', 588),\n",
       " ('hold', 587),\n",
       " ('shock', 586),\n",
       " ('end', 585),\n",
       " ('jack', 583),\n",
       " ('nausea', 582),\n",
       " ('pm', 577),\n",
       " ('firefight', 576),\n",
       " ('spray', 574),\n",
       " ('person', 572),\n",
       " ('mid', 571),\n",
       " ('shoe', 568),\n",
       " ('item', 567),\n",
       " ('slam', 566),\n",
       " ('morn', 566),\n",
       " ('involv', 565),\n",
       " ('bibem', 563),\n",
       " ('stretcher', 561),\n",
       " ('oil', 558),\n",
       " ('hour', 558),\n",
       " ('air', 557),\n",
       " ('line', 557),\n",
       " ('insect', 556),\n",
       " ('motion', 555),\n",
       " ('multipl', 551),\n",
       " ('abr', 551),\n",
       " ('duti', 550),\n",
       " ('fenc', 549),\n",
       " ('bucket', 548),\n",
       " ('also', 548),\n",
       " ('assist', 547),\n",
       " ('chang', 544),\n",
       " ('hole', 544),\n",
       " ('hors', 542),\n",
       " ('think', 539),\n",
       " ('razor', 535),\n",
       " ('abdomen', 531),\n",
       " ('atwork', 530),\n",
       " ('lost', 530),\n",
       " ('distal', 529),\n",
       " ('occ', 527),\n",
       " ('bilat', 526),\n",
       " ('becam', 522),\n",
       " ('prior', 522),\n",
       " ('numb', 520),\n",
       " ('belt', 514),\n",
       " ('cabinet', 514),\n",
       " ('slice', 513),\n",
       " ('wooden', 511),\n",
       " ('heard', 510),\n",
       " ('chronic', 508),\n",
       " ('furnitur', 507),\n",
       " ('vehicl', 507),\n",
       " ('sob', 506),\n",
       " ('mouth', 506),\n",
       " ('unload', 505),\n",
       " ('tunnel', 505),\n",
       " ('deliv', 504),\n",
       " ('smoke', 502),\n",
       " ('great', 500),\n",
       " ('place', 497),\n",
       " ('pass', 497),\n",
       " ('msk', 493),\n",
       " ('tile', 493),\n",
       " ('dish', 493),\n",
       " ('catch', 488),\n",
       " ('handl', 488),\n",
       " ('stop', 487),\n",
       " ('beam', 487),\n",
       " ('abra', 484),\n",
       " ('contu', 483),\n",
       " ('wheelchair', 483),\n",
       " ('plastic', 482),\n",
       " ('spine', 482),\n",
       " ('sutur', 482),\n",
       " ('increas', 481),\n",
       " ('syndrom', 480),\n",
       " ('cow', 480),\n",
       " ('dehydr', 480),\n",
       " ('edg', 480),\n",
       " ('feel', 479),\n",
       " ('boot', 479),\n",
       " ('tool', 476),\n",
       " ('small', 474),\n",
       " ('bump', 473),\n",
       " ('store', 472),\n",
       " ('spit', 472),\n",
       " ('allerg', 471),\n",
       " ('hose', 470),\n",
       " ('fing', 469),\n",
       " ('cook', 469),\n",
       " ('gate', 467),\n",
       " ('pin', 467),\n",
       " ('post', 466),\n",
       " ('bottl', 466),\n",
       " ('chase', 465),\n",
       " ('rear', 464),\n",
       " ('chain', 462),\n",
       " ('carpal', 462),\n",
       " ('make', 460),\n",
       " ('light', 457),\n",
       " ('care', 457),\n",
       " ('vs', 457),\n",
       " ('paint', 456),\n",
       " ('possibl', 456),\n",
       " ('str', 455),\n",
       " ('inmat', 455),\n",
       " ('climb', 455),\n",
       " ('child', 453),\n",
       " ('sensat', 451),\n",
       " ('cat', 451),\n",
       " ('lumbosacr', 450),\n",
       " ('irrit', 450),\n",
       " ('px', 448),\n",
       " ('wheel', 448),\n",
       " ('semi', 448),\n",
       " ('shop', 446),\n",
       " ('white', 443),\n",
       " ('month', 443),\n",
       " ('palm', 443),\n",
       " ('board', 443),\n",
       " ('conjunct', 442),\n",
       " ('ab', 441),\n",
       " ('cramp', 441),\n",
       " ('bone', 438),\n",
       " ('greas', 438),\n",
       " ('perp', 437),\n",
       " ('syncop', 437),\n",
       " ('desk', 436),\n",
       " ('landscap', 434),\n",
       " ('like', 432),\n",
       " ('cement', 432),\n",
       " ('hard', 430),\n",
       " ('rock', 430),\n",
       " ('bee', 429),\n",
       " ('tear', 428),\n",
       " ('come', 427),\n",
       " ('deni', 426),\n",
       " ('infect', 425),\n",
       " ('bleed', 424),\n",
       " ('secur', 422),\n",
       " ('jam', 420),\n",
       " ('kitchen', 418),\n",
       " ('high', 418),\n",
       " ('plate', 416),\n",
       " ('machineri', 415),\n",
       " ('two', 414),\n",
       " ('knock', 412),\n",
       " ('dust', 412),\n",
       " ('fd', 410),\n",
       " ('restaur', 410),\n",
       " ('front', 406),\n",
       " ('notic', 406),\n",
       " ('poke', 406),\n",
       " ('iv', 405),\n",
       " ('room', 405),\n",
       " ('trunk', 405),\n",
       " ('ambul', 405),\n",
       " ('radiculopathi', 401),\n",
       " ('reaction', 400),\n",
       " ('warehous', 399),\n",
       " ('ceil', 399),\n",
       " ('fume', 396),\n",
       " ('transfer', 395),\n",
       " ('note', 395),\n",
       " ('ga', 393),\n",
       " ('nasal', 391),\n",
       " ('rack', 391),\n",
       " ('partial', 390),\n",
       " ('occur', 390),\n",
       " ('mail', 381),\n",
       " ('yest', 379),\n",
       " ('shin', 378),\n",
       " ('cowork', 374),\n",
       " ('oper', 372),\n",
       " ('instal', 371),\n",
       " ('flank', 371),\n",
       " ('forward', 370),\n",
       " ('carpet', 370),\n",
       " ('poison', 369),\n",
       " ('contamin', 367),\n",
       " ('throw', 367),\n",
       " ('paper', 366),\n",
       " ('info', 362),\n",
       " ('past', 361),\n",
       " ('give', 359),\n",
       " ('tdi', 358),\n",
       " ('radiu', 357),\n",
       " ('hisp', 356),\n",
       " ('tank', 355),\n",
       " ('unknown', 354),\n",
       " ('bilater', 354),\n",
       " ('em', 353),\n",
       " ('cord', 353),\n",
       " ('cleaner', 350),\n",
       " ('elev', 350),\n",
       " ('vomit', 350),\n",
       " ('recent', 349),\n",
       " ('passeng', 349),\n",
       " ('pinki', 349),\n",
       " ('ride', 348),\n",
       " ('stood', 347),\n",
       " ('industri', 347),\n",
       " ('pressur', 346),\n",
       " ('thing', 345),\n",
       " ('wrench', 344),\n",
       " ('hernia', 344),\n",
       " ('miss', 343),\n",
       " ('spr', 342),\n",
       " ('protect', 340),\n",
       " ('frequent', 340),\n",
       " ('otj', 340),\n",
       " ('employ', 338),\n",
       " ('eval', 337),\n",
       " ('block', 337),\n",
       " ('build', 336),\n",
       " ('comput', 334),\n",
       " ('custom', 332),\n",
       " ('sting', 332),\n",
       " ('mop', 332),\n",
       " ('van', 326),\n",
       " ('guard', 326),\n",
       " ('balanc', 325),\n",
       " ('attack', 324),\n",
       " ('type', 324),\n",
       " ('thrown', 324),\n",
       " ('old', 323),\n",
       " ('weak', 319),\n",
       " ('gave', 316),\n",
       " ('cough', 315),\n",
       " ('blow', 315),\n",
       " ('shift', 314),\n",
       " ('crate', 313),\n",
       " ('tonight', 312),\n",
       " ('exacerb', 312),\n",
       " ('fa', 310),\n",
       " ('safeti', 310),\n",
       " ('poss', 309),\n",
       " ('swollen', 308),\n",
       " ('freq', 307),\n",
       " ('bld', 307),\n",
       " ('rail', 306),\n",
       " ('shovel', 306),\n",
       " ('period', 306),\n",
       " ('movement', 306),\n",
       " ('hiv', 306),\n",
       " ('unk', 306),\n",
       " ('factori', 304),\n",
       " ('comb', 304),\n",
       " ('may', 303),\n",
       " ('later', 301),\n",
       " ('util', 300),\n",
       " ('j', 299),\n",
       " ('stock', 298),\n",
       " ('approx', 298),\n",
       " ('chin', 295),\n",
       " ('heel', 294),\n",
       " ('bursiti', 292),\n",
       " ('earlier', 292),\n",
       " ('requir', 292),\n",
       " ('direct', 291),\n",
       " ('tingl', 291),\n",
       " ('asthma', 290),\n",
       " ('agit', 289),\n",
       " ('grill', 289),\n",
       " ('way', 288),\n",
       " ('deliveri', 288),\n",
       " ('weight', 287),\n",
       " ('branch', 287),\n",
       " ('chicken', 286),\n",
       " ('case', 284),\n",
       " ('draw', 284),\n",
       " ('pc', 283),\n",
       " ('breath', 283),\n",
       " ('tube', 281),\n",
       " ('medic', 280),\n",
       " ('stab', 279),\n",
       " ('seen', 278),\n",
       " ('shelv', 277),\n",
       " ('fingertip', 277),\n",
       " ('blunt', 275),\n",
       " ('workdx', 275),\n",
       " ('wrong', 275),\n",
       " ('pan', 275),\n",
       " ('plant', 273),\n",
       " ('splinter', 272),\n",
       " ('hair', 272),\n",
       " ('pot', 271),\n",
       " ('extrem', 269),\n",
       " ('musculoskelet', 269),\n",
       " ('away', 268),\n",
       " ('fist', 268),\n",
       " ('dock', 267),\n",
       " ('phalanx', 265),\n",
       " ('n', 264),\n",
       " ('min', 264),\n",
       " ('eyebrow', 263),\n",
       " ('frame', 262),\n",
       " ('scrape', 262),\n",
       " ('dumpster', 261),\n",
       " ('multi', 260),\n",
       " ('counter', 259),\n",
       " ('press', 258),\n",
       " ('bleach', 258),\n",
       " ('housekeep', 258),\n",
       " ('threw', 257),\n",
       " ('scene', 257),\n",
       " ('ramp', 257),\n",
       " ('posit', 256),\n",
       " ('jaw', 256),\n",
       " ('dental', 256),\n",
       " ('minor', 255),\n",
       " ('syring', 254),\n",
       " ('welder', 253),\n",
       " ('relat', 253),\n",
       " ('year', 251),\n",
       " ('coffe', 251),\n",
       " ('corner', 251),\n",
       " ('psych', 251),\n",
       " ('pinch', 250),\n",
       " ('rotat', 250),\n",
       " ('bicep', 250),\n",
       " ('exp', 250),\n",
       " ('throat', 249),\n",
       " ('transport', 248),\n",
       " ('scissor', 248),\n",
       " ('mild', 248),\n",
       " ('dept', 248),\n",
       " ('bruis', 247),\n",
       " ('inject', 247),\n",
       " ('blew', 247),\n",
       " ('refriger', 246),\n",
       " ('insulin', 245),\n",
       " ('health', 243),\n",
       " ('anim', 243),\n",
       " ('per', 243),\n",
       " ('seat', 243),\n",
       " ('touch', 242),\n",
       " ('chem', 242),\n",
       " ('debri', 241),\n",
       " ('conveyor', 241),\n",
       " ('prison', 241),\n",
       " ('stack', 240),\n",
       " ('slid', 240),\n",
       " ('bk', 240),\n",
       " ('materi', 239),\n",
       " ('labor', 238),\n",
       " ('lab', 238),\n",
       " ('near', 237),\n",
       " ('volunt', 237),\n",
       " ('play', 236),\n",
       " ('suddenli', 234),\n",
       " ('stool', 233),\n",
       " ('superfici', 233),\n",
       " ('brick', 233),\n",
       " ('explod', 232),\n",
       " ('repair', 231),\n",
       " ('carbon', 231),\n",
       " ('oven', 231),\n",
       " ('call', 229),\n",
       " ('control', 229),\n",
       " ('packag', 228),\n",
       " ('inguin', 228),\n",
       " ('acid', 227),\n",
       " ('bathroom', 227),\n",
       " ('stung', 227),\n",
       " ('aid', 227),\n",
       " ('yet', 227),\n",
       " ('snow', 225),\n",
       " ('snap', 225),\n",
       " ('dump', 225),\n",
       " ('cloth', 225),\n",
       " ('abov', 224),\n",
       " ('engin', 223),\n",
       " ('cabl', 222),\n",
       " ('abscess', 222),\n",
       " ('kneel', 222),\n",
       " ('leav', 221),\n",
       " ('fth', 221),\n",
       " ('full', 220),\n",
       " ('pound', 220),\n",
       " ('bang', 220),\n",
       " ('perform', 219),\n",
       " ('activ', 219),\n",
       " ('flight', 219),\n",
       " ('lean', 219),\n",
       " ('ls', 219),\n",
       " ('cuff', 219),\n",
       " ('urin', 218),\n",
       " ('stapl', 218),\n",
       " ('itch', 217),\n",
       " ('speed', 216),\n",
       " ('flip', 216),\n",
       " ('laundri', 216),\n",
       " ('pizza', 215),\n",
       " ('man', 215),\n",
       " ('mv', 215),\n",
       " ('behind', 215),\n",
       " ('curb', 215),\n",
       " ('airbag', 214),\n",
       " ('log', 214),\n",
       " ('freezer', 214),\n",
       " ('wheeler', 213),\n",
       " ('fix', 213),\n",
       " ('fan', 213),\n",
       " ('street', 213),\n",
       " ('hang', 212),\n",
       " ('diseas', 212),\n",
       " ('constantli', 212),\n",
       " ('drink', 211),\n",
       " ('cover', 211),\n",
       " ('physic', 211),\n",
       " ('trim', 210),\n",
       " ('mech', 208),\n",
       " ('cheek', 208),\n",
       " ('suffer', 207),\n",
       " ('tight', 207),\n",
       " ('toxic', 206),\n",
       " ('mph', 206),\n",
       " ('across', 206),\n",
       " ('sink', 206),\n",
       " ('mult', 205),\n",
       " ('bolt', 204),\n",
       " ('ruptur', 204),\n",
       " ('attend', 204),\n",
       " ('bug', 204),\n",
       " ('deli', 203),\n",
       " ('lighthead', 203),\n",
       " ('littl', 202),\n",
       " ('invert', 202),\n",
       " ('shut', 202),\n",
       " ('children', 201),\n",
       " ('bread', 200),\n",
       " ('lg', 200),\n",
       " ('mth', 200),\n",
       " ('traumat', 199),\n",
       " ('fork', 198),\n",
       " ('lid', 198),\n",
       " ('goggl', 198),\n",
       " ('deep', 198),\n",
       " ('eyelid', 197),\n",
       " ('beer', 197),\n",
       " ('lawn', 196),\n",
       " ('dishwash', 196),\n",
       " ('barn', 196),\n",
       " ('compani', 195),\n",
       " ('woke', 195),\n",
       " ('mo', 195),\n",
       " ('obj', 195),\n",
       " ('dolli', 194),\n",
       " ('took', 194),\n",
       " ('unit', 193),\n",
       " ('humeru', 192),\n",
       " ('impact', 192),\n",
       " ('motor', 192),\n",
       " ('vision', 191),\n",
       " ('detail', 191),\n",
       " ('peic', 189),\n",
       " ('monoxid', 188),\n",
       " ('live', 188),\n",
       " ('cattl', 188),\n",
       " ('lay', 187),\n",
       " ('toilet', 187),\n",
       " ('kid', 187),\n",
       " ('veri', 186),\n",
       " ('e', 186),\n",
       " ('rusti', 185),\n",
       " ('bin', 184),\n",
       " ('screw', 184),\n",
       " ('flash', 183),\n",
       " ('condition', 183),\n",
       " ('joint', 183),\n",
       " ('hyperextend', 183),\n",
       " ('cab', 183),\n",
       " ('cardboard', 183),\n",
       " ('iron', 183),\n",
       " ('effus', 182),\n",
       " ('circular', 182),\n",
       " ('mower', 182),\n",
       " ('fri', 181),\n",
       " ('emt', 181),\n",
       " ('sth', 181),\n",
       " ('pool', 181),\n",
       " ('intern', 181),\n",
       " ('persist', 180),\n",
       " ('result', 180),\n",
       " ('happen', 180),\n",
       " ('eyebal', 179),\n",
       " ('unabl', 179),\n",
       " ('center', 179),\n",
       " ('deploy', 178),\n",
       " ('hook', 178),\n",
       " ('tr', 178),\n",
       " ('drywal', 178),\n",
       " ('cna', 178),\n",
       " ('groceri', 177),\n",
       " ('ing', 177),\n",
       " ('empti', 177),\n",
       " ('roller', 177),\n",
       " ('set', 176),\n",
       " ('daili', 176),\n",
       " ('garag', 175),\n",
       " ('procedur', 174),\n",
       " ('scald', 174),\n",
       " ('short', 174),\n",
       " ('locat', 173),\n",
       " ('platform', 172),\n",
       " ('fibula', 172),\n",
       " ('continu', 172),\n",
       " ('itchi', 171),\n",
       " ('hay', 171),\n",
       " ('sign', 169),\n",
       " ('sun', 169),\n",
       " ('unrestrain', 169),\n",
       " ('trapeziu', 169),\n",
       " ('po', 168),\n",
       " ('pregnant', 167),\n",
       " ('sand', 167),\n",
       " ('fryer', 165),\n",
       " ('cwp', 165),\n",
       " ('tibia', 165),\n",
       " ('communic', 165),\n",
       " ('surfac', 164),\n",
       " ('region', 164),\n",
       " ('breast', 164),\n",
       " ('tx', 163),\n",
       " ('chop', 163),\n",
       " ('wrestl', 163),\n",
       " ('liquid', 162),\n",
       " ('steam', 162),\n",
       " ('tissu', 162),\n",
       " ('discomfort', 161),\n",
       " ('spider', 160),\n",
       " ('first', 159),\n",
       " ('brake', 158),\n",
       " ('boat', 158),\n",
       " ('fill', 158),\n",
       " ('ind', 158),\n",
       " ('retain', 158),\n",
       " ('waitress', 157),\n",
       " ('crack', 157),\n",
       " ('chef', 157),\n",
       " ('group', 157),\n",
       " ('band', 157),\n",
       " ('etoh', 157),\n",
       " ('believ', 156),\n",
       " ('brush', 156),\n",
       " ('collaps', 156),\n",
       " ('witih', 156),\n",
       " ('road', 156),\n",
       " ('linen', 156),\n",
       " ('second', 155),\n",
       " ('respond', 155),\n",
       " ('sanit', 155),\n",
       " ('overhead', 155),\n",
       " ('surgeri', 155),\n",
       " ('taxi', 154),\n",
       " ('aluminum', 154),\n",
       " ('yard', 154),\n",
       " ('nerv', 154),\n",
       " ('sent', 153),\n",
       " ('sb', 153),\n",
       " ('friday', 153),\n",
       " ('shoot', 153),\n",
       " ('derang', 153),\n",
       " ('without', 152),\n",
       " ('rearend', 152),\n",
       " ('event', 152),\n",
       " ('loos', 152),\n",
       " ('femur', 151),\n",
       " ('roofer', 151),\n",
       " ('blister', 151),\n",
       " ('sore', 150),\n",
       " ('pelvic', 150),\n",
       " ('bldg', 150),\n",
       " ('rad', 150),\n",
       " ('kerat', 150),\n",
       " ('thermal', 150),\n",
       " ('dri', 150),\n",
       " ('jerk', 150),\n",
       " ('washer', 149),\n",
       " ('airport', 149),\n",
       " ('cornea', 149),\n",
       " ('bull', 149),\n",
       " ('med', 149),\n",
       " ('excerb', 149),\n",
       " ('backpain', 148),\n",
       " ('occup', 148),\n",
       " ('batteri', 148),\n",
       " ('field', 148),\n",
       " ('arriv', 147),\n",
       " ('gear', 147),\n",
       " ('deg', 147),\n",
       " ('facil', 147),\n",
       " ('bil', 146),\n",
       " ('barrel', 146),\n",
       " ('panel', 146),\n",
       " ('skid', 146),\n",
       " ('rest', 146),\n",
       " ('teacher', 145),\n",
       " ('golf', 145),\n",
       " ('rope', 145),\n",
       " ('v', 145),\n",
       " ('black', 145),\n",
       " ('dirt', 145),\n",
       " ('station', 145),\n",
       " ('prolong', 145),\n",
       " ('sidewalk', 144),\n",
       " ('da', 144),\n",
       " ('tow', 144),\n",
       " ('cage', 143),\n",
       " ('tender', 143),\n",
       " ('plantar', 143),\n",
       " ('hotel', 143),\n",
       " ('fingernail', 142),\n",
       " ('ach', 142),\n",
       " ('slide', 142),\n",
       " ('overus', 142),\n",
       " ('crane', 142),\n",
       " ('hemorrhag', 141),\n",
       " ('mat', 141),\n",
       " ('still', 141),\n",
       " ('milk', 141),\n",
       " ('bottom', 141),\n",
       " ('pack', 141),\n",
       " ('inv', 140),\n",
       " ('soft', 140),\n",
       " ('insid', 139),\n",
       " ...]"
      ]
     },
     "execution_count": 32,
     "metadata": {},
     "output_type": "execute_result"
    }
   ],
   "source": [
    "token_cnt.most_common()"
   ]
  },
  {
   "cell_type": "code",
   "execution_count": 33,
   "metadata": {},
   "outputs": [],
   "source": [
    "tokenseries = pd.Series(token_cnt)"
   ]
  },
  {
   "cell_type": "code",
   "execution_count": 34,
   "metadata": {},
   "outputs": [],
   "source": [
    "tokenseries = tokenseries.sort_values(ascending=False)"
   ]
  },
  {
   "cell_type": "markdown",
   "metadata": {},
   "source": [
    "Words to remove"
   ]
  },
  {
   "cell_type": "code",
   "execution_count": 35,
   "metadata": {},
   "outputs": [],
   "source": [
    "pd.options.display.max_colwidth = 70"
   ]
  },
  {
   "cell_type": "code",
   "execution_count": 36,
   "metadata": {},
   "outputs": [
    {
     "data": {
      "text/plain": [
       "7         60 YOM STATES HE WAS WORKING IN A WOOD SHOP YESTERDAY AND FELT   S...\n",
       "38        37YOM HAD SLEDGE HAMMER SPLIT OFF SPLINTER  WORK FB IN CHEST  DX F...\n",
       "222       56YOM WAS CUTTING METAL  THINKS GOT A PC ON EYE CO FB SENSATION  P...\n",
       "312         37YM WAS WORKING C METAL 1WA DEV D EYE FBS EVER SINCE    FB REMOVAL\n",
       "317       44YOM AT WORK USING A LEAF BLOWER WHEN SOME DEBRIS FLEW INTO EYE F...\n",
       "                                          ...                                  \n",
       "153832    24 YOM C O FB  T  NUT STUCK UNER FINGER NAIL WHILE AT WORK DX T NU...\n",
       "153866      22YM SUDDEN ONSET OF EYE FB SENS WHILE GRINDING METAL    FB REMOVAL\n",
       "153870    44YOM SUST FB TO EYE WHEN HE WAS AT WORK WHEN HE FELT A PIECE OF  ...\n",
       "153900    30YOM GRINDING WHEN A PIECE OF METAL FLEW INTO HIS EYE YESTERDAY W...\n",
       "153933                                    24 YOM FB IN EYE WHEN WELDING AT WORK\n",
       "Name: text, Length: 2191, dtype: object"
      ]
     },
     "execution_count": 36,
     "metadata": {},
     "output_type": "execute_result"
    }
   ],
   "source": [
    "df.loc[df['text'].str.contains(' FB '),'text']"
   ]
  },
  {
   "cell_type": "code",
   "execution_count": 37,
   "metadata": {},
   "outputs": [],
   "source": [
    "to_remove = {'at','a' ,'onto', 'state', \n",
    "       'yf', 'm', 'f', 'to', 'on', 'male', 'female',\n",
    "             'yom', 'yof', 'yom','pt', 'yo','ym',\n",
    "       'rt',   'lt', 'o','l', 'r','left', 'right',\n",
    "        }"
   ]
  },
  {
   "cell_type": "code",
   "execution_count": 38,
   "metadata": {},
   "outputs": [
    {
     "data": {
      "text/plain": [
       "Index(['work', 'dx', 'yom', 'pain', 'yof', 'finger', 'back', 'wa', 'fell', 'c',\n",
       "       'hand', 'strain', 'lift', 'pt', 'knee', 'lac', 'rt', 'shoulder', 'cut',\n",
       "       'hit', 'yo', 'contus', 'head', 'w', 'lt', 'hi', 'lacer', 'sprain', 'p',\n",
       "       'lower', 'l', 'eye', 'heavi', 'foot', 'r', 'wrist', 'ankl', 'ym',\n",
       "       'injuri', 'low', 'arm', 'metal', 'left', 'slip', 'fx', 'leg', 'fall',\n",
       "       'got', 'day', 'thumb'],\n",
       "      dtype='object')"
      ]
     },
     "execution_count": 38,
     "metadata": {},
     "output_type": "execute_result"
    }
   ],
   "source": [
    "tokenseries.iloc[:50].index"
   ]
  },
  {
   "cell_type": "code",
   "execution_count": 39,
   "metadata": {},
   "outputs": [
    {
     "data": {
      "text/plain": [
       "work        120854\n",
       "dx           76990\n",
       "yom          76629\n",
       "pain         52079\n",
       "yof          41405\n",
       "finger       31477\n",
       "back         30057\n",
       "wa           29725\n",
       "fell         22587\n",
       "c            21614\n",
       "hand         21598\n",
       "strain       21292\n",
       "lift         18998\n",
       "pt           17881\n",
       "knee         16612\n",
       "lac          16037\n",
       "rt           14469\n",
       "shoulder     14173\n",
       "cut          13849\n",
       "hit          13812\n",
       "yo           13787\n",
       "contus       13749\n",
       "head         13721\n",
       "w            12762\n",
       "lt           12340\n",
       "hi           12297\n",
       "lacer        12060\n",
       "sprain       11945\n",
       "p            11338\n",
       "lower        11274\n",
       "l            11196\n",
       "eye          11138\n",
       "heavi        10582\n",
       "foot         10323\n",
       "r            10082\n",
       "wrist         9657\n",
       "ankl          9345\n",
       "ym            9196\n",
       "injuri        9142\n",
       "low           8767\n",
       "arm           8086\n",
       "metal         7498\n",
       "left          7418\n",
       "slip          7372\n",
       "fx            7231\n",
       "leg           7091\n",
       "fall          6880\n",
       "got           6873\n",
       "day           6500\n",
       "thumb         6475\n",
       "dtype: int64"
      ]
     },
     "execution_count": 39,
     "metadata": {},
     "output_type": "execute_result"
    }
   ],
   "source": [
    "tokenseries.iloc[:50]"
   ]
  },
  {
   "cell_type": "code",
   "execution_count": 239,
   "metadata": {},
   "outputs": [],
   "source": [
    "# to_remove = to_remove.union(set(tokenseries[tokenseries <= 5].index))"
   ]
  },
  {
   "cell_type": "code",
   "execution_count": 40,
   "metadata": {},
   "outputs": [],
   "source": [
    "def series_remove_words(x):\n",
    "    return [w for w in x if not w in to_remove]"
   ]
  },
  {
   "cell_type": "code",
   "execution_count": 41,
   "metadata": {},
   "outputs": [
    {
     "name": "stdout",
     "output_type": "stream",
     "text": [
      "CPU times: user 324 ms, sys: 12 ms, total: 336 ms\n",
      "Wall time: 335 ms\n"
     ]
    }
   ],
   "source": [
    "%%time\n",
    "df['text_edit'] = df['text_edit'].apply(series_remove_words)"
   ]
  },
  {
   "cell_type": "code",
   "execution_count": 42,
   "metadata": {},
   "outputs": [
    {
     "data": {
      "text/plain": [
       "0                    [contus, face, strike, post, pounder, set, fenc, post]\n",
       "1                                 [fell, arm, work, slip, water, fx, wrist]\n",
       "2     [cervic, strain, back, pain, p, restrain, taxi, driver, low, speed...\n",
       "3                                                 [lac, hand, razor, knife]\n",
       "4                  [work, warehous, unspecifi, lift, strain, lo, wer, back]\n",
       "5     [client, home, trim, tree, chain, saw, saw, kick, back, hit, lower...\n",
       "6            [cut, finger, sharpen, knife, work, dx, index, fingerlacer, b]\n",
       "7     [wa, work, wood, shop, yesterday, felt, someth, go, hi, ear, dx, f...\n",
       "8     [c, b, back, pain, sinc, fri, wors, today, lift, heavi, trash, bag...\n",
       "9                                      [shoulder, pain, lift, packag, work]\n",
       "10       [cellul, knee, report, go, ladder, paint, gutter, work, last, day]\n",
       "11                            [hurt, hand, hit, screwdriv, dx, punnc, hand]\n",
       "12    [knee, pain, work, crouch, stood, felt, pop, hi, knee, c, pain, st...\n",
       "13    [work, hospit, attempt, get, blood, sugar, patient, wa, splash, ey...\n",
       "14                    [lac, arm, use, sheetrock, knife, work, dx, arm, lac]\n",
       "15    [fx, nose, p, assault, client, work, struck, face, multipl, time, ...\n",
       "16                  [work, use, floor, buffer, sustain, amput, tip, finger]\n",
       "17                             [fell, work, scaffold, dx, shoulder, disloc]\n",
       "18    [dx, thumb, sprain, strain, p, due, assist, chang, heavi, individu...\n",
       "19           [report, alway, heavi, lift, work, nowwith, c, shoulder, pain]\n",
       "Name: text_edit, dtype: object"
      ]
     },
     "execution_count": 42,
     "metadata": {},
     "output_type": "execute_result"
    }
   ],
   "source": [
    "df['text_edit'].head(20)"
   ]
  },
  {
   "cell_type": "code",
   "execution_count": 43,
   "metadata": {},
   "outputs": [
    {
     "data": {
      "text/plain": [
       "1         3\n",
       "2         4\n",
       "3       465\n",
       "4      2050\n",
       "5      5694\n",
       "6      9954\n",
       "7     13875\n",
       "8     16838\n",
       "9     17009\n",
       "10    16252\n",
       "11    14736\n",
       "12    13000\n",
       "13    10920\n",
       "14     9344\n",
       "15     7513\n",
       "16     5979\n",
       "17     4335\n",
       "18     2870\n",
       "19     1641\n",
       "20      835\n",
       "21      369\n",
       "22      179\n",
       "23       66\n",
       "24       14\n",
       "25        8\n",
       "26        2\n",
       "28        1\n",
       "Name: text_edit, dtype: int64"
      ]
     },
     "execution_count": 43,
     "metadata": {},
     "output_type": "execute_result"
    }
   ],
   "source": [
    "df['text_edit'].apply(len).value_counts().sort_index()"
   ]
  },
  {
   "cell_type": "code",
   "execution_count": 44,
   "metadata": {},
   "outputs": [],
   "source": [
    "df['token_len'] = df['text_edit'].apply(len)"
   ]
  },
  {
   "cell_type": "code",
   "execution_count": 45,
   "metadata": {},
   "outputs": [
    {
     "data": {
      "text/html": [
       "<div>\n",
       "<style scoped>\n",
       "    .dataframe tbody tr th:only-of-type {\n",
       "        vertical-align: middle;\n",
       "    }\n",
       "\n",
       "    .dataframe tbody tr th {\n",
       "        vertical-align: top;\n",
       "    }\n",
       "\n",
       "    .dataframe thead th {\n",
       "        text-align: right;\n",
       "    }\n",
       "</style>\n",
       "<table border=\"1\" class=\"dataframe\">\n",
       "  <thead>\n",
       "    <tr style=\"text-align: right;\">\n",
       "      <th></th>\n",
       "      <th>text</th>\n",
       "      <th>sex</th>\n",
       "      <th>age</th>\n",
       "      <th>event</th>\n",
       "      <th>text_edit</th>\n",
       "      <th>token_len</th>\n",
       "    </tr>\n",
       "  </thead>\n",
       "  <tbody>\n",
       "  </tbody>\n",
       "</table>\n",
       "</div>"
      ],
      "text/plain": [
       "Empty DataFrame\n",
       "Columns: [text, sex, age, event, text_edit, token_len]\n",
       "Index: []"
      ]
     },
     "execution_count": 45,
     "metadata": {},
     "output_type": "execute_result"
    }
   ],
   "source": [
    "df[df['token_len']==30]"
   ]
  },
  {
   "cell_type": "code",
   "execution_count": 46,
   "metadata": {},
   "outputs": [
    {
     "data": {
      "text/html": [
       "<div>\n",
       "<style scoped>\n",
       "    .dataframe tbody tr th:only-of-type {\n",
       "        vertical-align: middle;\n",
       "    }\n",
       "\n",
       "    .dataframe tbody tr th {\n",
       "        vertical-align: top;\n",
       "    }\n",
       "\n",
       "    .dataframe thead th {\n",
       "        text-align: right;\n",
       "    }\n",
       "</style>\n",
       "<table border=\"1\" class=\"dataframe\">\n",
       "  <thead>\n",
       "    <tr style=\"text-align: right;\">\n",
       "      <th></th>\n",
       "      <th>text</th>\n",
       "      <th>sex</th>\n",
       "      <th>age</th>\n",
       "      <th>event</th>\n",
       "      <th>text_edit</th>\n",
       "      <th>token_len</th>\n",
       "    </tr>\n",
       "  </thead>\n",
       "  <tbody>\n",
       "    <tr>\n",
       "      <td>0</td>\n",
       "      <td>57YOM WITH CONTUSION TO FACE AFTER STRIKING IT WITH A POST POUNDER...</td>\n",
       "      <td>1</td>\n",
       "      <td>57</td>\n",
       "      <td>62</td>\n",
       "      <td>[contus, face, strike, post, pounder, set, fenc, post]</td>\n",
       "      <td>8</td>\n",
       "    </tr>\n",
       "    <tr>\n",
       "      <td>1</td>\n",
       "      <td>A 45YOM FELL ON ARM WHILE WORKING HAD SLIPPED ON WATER FX WRIST</td>\n",
       "      <td>1</td>\n",
       "      <td>45</td>\n",
       "      <td>42</td>\n",
       "      <td>[fell, arm, work, slip, water, fx, wrist]</td>\n",
       "      <td>7</td>\n",
       "    </tr>\n",
       "    <tr>\n",
       "      <td>2</td>\n",
       "      <td>58YOM WITH CERVICAL STRAIN  BACK PAIN S P RESTRAINED TAXI DRIVER I...</td>\n",
       "      <td>1</td>\n",
       "      <td>58</td>\n",
       "      <td>26</td>\n",
       "      <td>[cervic, strain, back, pain, p, restrain, taxi, driver, low, speed...</td>\n",
       "      <td>16</td>\n",
       "    </tr>\n",
       "    <tr>\n",
       "      <td>3</td>\n",
       "      <td>33 YOM LAC TO HAND FROM A RAZOR KNIFE</td>\n",
       "      <td>1</td>\n",
       "      <td>33</td>\n",
       "      <td>60</td>\n",
       "      <td>[lac, hand, razor, knife]</td>\n",
       "      <td>4</td>\n",
       "    </tr>\n",
       "    <tr>\n",
       "      <td>4</td>\n",
       "      <td>53YOM AT WORK IN A WAREHOUSE DOING UNSPECIFIED LIFTING AND STRAINE...</td>\n",
       "      <td>1</td>\n",
       "      <td>53</td>\n",
       "      <td>71</td>\n",
       "      <td>[work, warehous, unspecifi, lift, strain, lo, wer, back]</td>\n",
       "      <td>8</td>\n",
       "    </tr>\n",
       "  </tbody>\n",
       "</table>\n",
       "</div>"
      ],
      "text/plain": [
       "                                                                    text  sex  \\\n",
       "0  57YOM WITH CONTUSION TO FACE AFTER STRIKING IT WITH A POST POUNDER...    1   \n",
       "1        A 45YOM FELL ON ARM WHILE WORKING HAD SLIPPED ON WATER FX WRIST    1   \n",
       "2  58YOM WITH CERVICAL STRAIN  BACK PAIN S P RESTRAINED TAXI DRIVER I...    1   \n",
       "3                                  33 YOM LAC TO HAND FROM A RAZOR KNIFE    1   \n",
       "4  53YOM AT WORK IN A WAREHOUSE DOING UNSPECIFIED LIFTING AND STRAINE...    1   \n",
       "\n",
       "   age  event  \\\n",
       "0   57     62   \n",
       "1   45     42   \n",
       "2   58     26   \n",
       "3   33     60   \n",
       "4   53     71   \n",
       "\n",
       "                                                               text_edit  \\\n",
       "0                 [contus, face, strike, post, pounder, set, fenc, post]   \n",
       "1                              [fell, arm, work, slip, water, fx, wrist]   \n",
       "2  [cervic, strain, back, pain, p, restrain, taxi, driver, low, speed...   \n",
       "3                                              [lac, hand, razor, knife]   \n",
       "4               [work, warehous, unspecifi, lift, strain, lo, wer, back]   \n",
       "\n",
       "   token_len  \n",
       "0          8  \n",
       "1          7  \n",
       "2         16  \n",
       "3          4  \n",
       "4          8  "
      ]
     },
     "execution_count": 46,
     "metadata": {},
     "output_type": "execute_result"
    }
   ],
   "source": [
    "df.head()"
   ]
  },
  {
   "cell_type": "code",
   "execution_count": 47,
   "metadata": {},
   "outputs": [],
   "source": [
    "docs = df['text_edit']"
   ]
  },
  {
   "cell_type": "code",
   "execution_count": 49,
   "metadata": {},
   "outputs": [
    {
     "name": "stdout",
     "output_type": "stream",
     "text": [
      "CPU times: user 1min 24s, sys: 39.9 ms, total: 1min 24s\n",
      "Wall time: 29.2 s\n"
     ]
    }
   ],
   "source": [
    "%%time\n",
    "mod = gensim.models.Word2Vec(\n",
    "        list(docs),\n",
    "        size=150,\n",
    "        window=7,\n",
    "        min_count=3,\n",
    "        iter=10,\n",
    "        sg=1)"
   ]
  },
  {
   "cell_type": "code",
   "execution_count": 52,
   "metadata": {
    "scrolled": true
   },
   "outputs": [
    {
     "data": {
      "text/plain": [
       "[('armdx', 0.68268221616745),\n",
       " ('forearm', 0.6654949188232422),\n",
       " ('upperarm', 0.6289854049682617),\n",
       " ('lowerarm', 0.6013457179069519),\n",
       " ('axilla', 0.5772742033004761),\n",
       " ('bicep', 0.575232744216919),\n",
       " ('upp', 0.5651390552520752),\n",
       " ('forearmdx', 0.559851884841919),\n",
       " ('toelbow', 0.5535629987716675),\n",
       " ('armabras', 0.5499148368835449)]"
      ]
     },
     "execution_count": 52,
     "metadata": {},
     "output_type": "execute_result"
    }
   ],
   "source": [
    "w1 = 'arm'\n",
    "mod.wv.most_similar(w1)"
   ]
  },
  {
   "cell_type": "code",
   "execution_count": 53,
   "metadata": {},
   "outputs": [
    {
     "data": {
      "text/plain": [
       "[('lacer', 0.7332230806350708),\n",
       " ('lacert', 0.7077115774154663),\n",
       " ('alc', 0.7067829966545105),\n",
       " ('simpl', 0.6975590586662292),\n",
       " ('lacerati', 0.6916410326957703),\n",
       " ('lacerat', 0.6826679706573486),\n",
       " ('laceraton', 0.6714003086090088),\n",
       " ('inder', 0.6706202030181885),\n",
       " ('avult', 0.6686348915100098),\n",
       " ('cutlt', 0.6636965870857239)]"
      ]
     },
     "execution_count": 53,
     "metadata": {},
     "output_type": "execute_result"
    }
   ],
   "source": [
    "w1 = 'lac'\n",
    "mod.wv.most_similar(w1)"
   ]
  },
  {
   "cell_type": "code",
   "execution_count": 54,
   "metadata": {},
   "outputs": [
    {
     "data": {
      "text/plain": [
       "[('workdx', 0.5962249040603638),\n",
       " ('subjectdx', 0.5418247580528259),\n",
       " ('midfoot', 0.5332993268966675),\n",
       " ('workfing', 0.5327682495117188),\n",
       " ('tf', 0.5281047821044922),\n",
       " ('dxz', 0.5278610587120056),\n",
       " ('wth', 0.5271939039230347),\n",
       " ('himdx', 0.5269554853439331),\n",
       " ('dex', 0.520546555519104),\n",
       " ('righ', 0.5193382501602173)]"
      ]
     },
     "execution_count": 54,
     "metadata": {},
     "output_type": "execute_result"
    }
   ],
   "source": [
    "w1 = 'dx'\n",
    "mod.wv.most_similar(w1)"
   ]
  },
  {
   "cell_type": "code",
   "execution_count": 55,
   "metadata": {},
   "outputs": [
    {
     "data": {
      "text/plain": [
       "[('displac', 0.7062808275222778),\n",
       " ('fractur', 0.6679642200469971),\n",
       " ('nondisplac', 0.665412962436676),\n",
       " ('nondispld', 0.6532224416732788),\n",
       " ('comminut', 0.6529390811920166),\n",
       " ('cld', 0.6505342721939087),\n",
       " ('radiu', 0.6349238753318787),\n",
       " ('dxclsd', 0.6335982084274292),\n",
       " ('intraarticular', 0.6277086734771729),\n",
       " ('fractu', 0.6207228899002075)]"
      ]
     },
     "execution_count": 55,
     "metadata": {},
     "output_type": "execute_result"
    }
   ],
   "source": [
    "w1 = 'fx'\n",
    "mod.wv.most_similar(w1)"
   ]
  },
  {
   "cell_type": "code",
   "execution_count": 56,
   "metadata": {
    "scrolled": true
   },
   "outputs": [
    {
     "data": {
      "text/plain": [
       "[('hedg', 0.8151863813400269),\n",
       " ('utilityknif', 0.794836163520813),\n",
       " ('reciproc', 0.7864598631858826),\n",
       " ('emin', 0.7652221918106079),\n",
       " ('tablesaw', 0.7605798244476318),\n",
       " ('ifnger', 0.7579606175422668),\n",
       " ('vegtabl', 0.7570262551307678),\n",
       " ('putti', 0.7564474940299988),\n",
       " ('basil', 0.7556628584861755),\n",
       " ('rdfinger', 0.75333571434021)]"
      ]
     },
     "execution_count": 56,
     "metadata": {},
     "output_type": "execute_result"
    }
   ],
   "source": [
    "w1 = 'clipper'\n",
    "mod.wv.most_similar(w1)"
   ]
  },
  {
   "cell_type": "code",
   "execution_count": 57,
   "metadata": {},
   "outputs": [
    {
     "data": {
      "text/plain": [
       "[('dxsprain', 0.7708092331886292),\n",
       " ('rightankl', 0.7455165386199951),\n",
       " ('leftankl', 0.7415006756782532),\n",
       " ('mope', 0.7398326396942139),\n",
       " ('shoilder', 0.7369130849838257),\n",
       " ('anl', 0.7352957129478455),\n",
       " ('strainto', 0.7339065670967102),\n",
       " ('aknl', 0.7282543182373047),\n",
       " ('wristdx', 0.7277466654777527),\n",
       " ('thestair', 0.727367639541626)]"
      ]
     },
     "execution_count": 57,
     "metadata": {},
     "output_type": "execute_result"
    }
   ],
   "source": [
    "w1 = 'twsite'\n",
    "mod.wv.most_similar(w1)"
   ]
  },
  {
   "cell_type": "code",
   "execution_count": 58,
   "metadata": {},
   "outputs": [
    {
     "data": {
      "text/plain": [
       "[('cutlt', 0.7882645130157471),\n",
       " ('lacerati', 0.7848820686340332),\n",
       " ('debur', 0.7518009543418884),\n",
       " ('sut', 0.7458298206329346),\n",
       " ('avult', 0.7421818375587463),\n",
       " ('lacera', 0.7416117191314697),\n",
       " ('acer', 0.7385734915733337),\n",
       " ('lacerationfing', 0.7354783415794373),\n",
       " ('handlacer', 0.7309030294418335),\n",
       " ('reciproc', 0.7307637929916382)]"
      ]
     },
     "execution_count": 58,
     "metadata": {},
     "output_type": "execute_result"
    }
   ],
   "source": [
    "w1 = 'lacerat'\n",
    "mod.wv.most_similar(w1)"
   ]
  },
  {
   "cell_type": "markdown",
   "metadata": {},
   "source": [
    "Most common words"
   ]
  },
  {
   "cell_type": "code",
   "execution_count": 59,
   "metadata": {
    "scrolled": true
   },
   "outputs": [
    {
     "data": {
      "text/plain": [
       "[('atwork', 0.6809127926826477),\n",
       " ('leftlow', 0.5802356600761414),\n",
       " ('wok', 0.5711686015129089),\n",
       " ('ight', 0.5673248767852783),\n",
       " ('lum', 0.5452511310577393),\n",
       " ('wrok', 0.538962721824646),\n",
       " ('worj', 0.5369032621383667),\n",
       " ('withi', 0.5328617095947266),\n",
       " ('workdx', 0.5305132865905762),\n",
       " ('astic', 0.5295368432998657)]"
      ]
     },
     "execution_count": 59,
     "metadata": {},
     "output_type": "execute_result"
    }
   ],
   "source": [
    "w1 = 'work'\n",
    "mod.wv.most_similar(w1)"
   ]
  },
  {
   "cell_type": "code",
   "execution_count": 60,
   "metadata": {},
   "outputs": [
    {
     "name": "stdout",
     "output_type": "stream",
     "text": [
      "\n",
      "-----work---------------------------------\n",
      "['atwork', 'leftlow', 'wok']\n",
      "\n",
      "-----dx---------------------------------\n",
      "['workdx', 'subjectdx', 'midfoot']\n",
      "\n",
      "-----pain---------------------------------\n",
      "['primarili', 'paon', 'likley']\n",
      "\n",
      "-----finger---------------------------------\n",
      "['index', 'middl', 'inger']\n",
      "\n",
      "-----back---------------------------------\n",
      "['backstrain', 'backsprain', 'backdx']\n",
      "\n",
      "-----wa---------------------------------\n",
      "['jailer', 'patienr', 'strainedshould']\n",
      "\n",
      "-----fell---------------------------------\n",
      "['fall', 'landedon', 'tumbl']\n",
      "\n",
      "-----c---------------------------------\n",
      "['constructionwork', 'eyesterday', 'acutelow']\n",
      "\n",
      "-----hand---------------------------------\n",
      "['finger', 'wrist', 'tohand']\n",
      "\n",
      "-----strain---------------------------------\n",
      "['sprain', 'lumbarstrain', 'strian']\n",
      "\n",
      "-----lift---------------------------------\n",
      "['lifitng', 'liftin', 'liftig']\n",
      "\n",
      "-----knee---------------------------------\n",
      "['derang', 'effus', 'rtknee']\n",
      "\n",
      "-----lac---------------------------------\n",
      "['lacer', 'lacert', 'alc']\n",
      "\n",
      "-----shoulder---------------------------------\n",
      "['shoudler', 'dxshoulder', 'lshoulder']\n",
      "\n",
      "-----cut---------------------------------\n",
      "['serrat', 'fingerlac', 'cutfing']\n",
      "\n",
      "-----hit---------------------------------\n",
      "['struck', 'strike', 'hitpt']\n",
      "\n",
      "-----contus---------------------------------\n",
      "['contusionto', 'contuson', 'dxcontus']\n",
      "\n",
      "-----head---------------------------------\n",
      "['headinjuri', 'ead', 'concuss']\n",
      "\n",
      "-----w---------------------------------\n",
      "['inuuri', 'rtthumb', 'thunb']\n",
      "\n",
      "-----hi---------------------------------\n",
      "['backinto', 'onhi', 'wth']\n",
      "\n",
      "-----lacer---------------------------------\n",
      "['dxlacer', 'lacerati', 'lacert']\n",
      "\n",
      "-----sprain---------------------------------\n",
      "['strain', 'spain', 'sprian']\n",
      "\n",
      "-----p---------------------------------\n",
      "['bcak', 'bibem', 'deu']\n",
      "\n",
      "-----lower---------------------------------\n",
      "['tolow', 'worklow', 'upper']\n",
      "\n",
      "-----eye---------------------------------\n",
      "['corneal', 'conjunctiv', 'intoey']\n",
      "\n",
      "-----heavi---------------------------------\n",
      "['heavyat', 'havi', 'heavt']\n",
      "\n",
      "-----foot---------------------------------\n",
      "['sneaker', 'tofoot', 'dxfoot']\n",
      "\n",
      "-----wrist---------------------------------\n",
      "['dxwrist', 'wri', 'wirst']\n",
      "\n",
      "-----ankl---------------------------------\n",
      "['invert', 'ankledx', 'akl']\n",
      "\n",
      "-----injuri---------------------------------\n",
      "['inuri', 'inju', 'injuryb']\n",
      "\n",
      "-----low---------------------------------\n",
      "['back', 'dxback', 'bakc']\n",
      "\n",
      "-----arm---------------------------------\n",
      "['armdx', 'forearm', 'upperarm']\n",
      "\n",
      "-----metal---------------------------------\n",
      "['steel', 'potteri', 'metl']\n",
      "\n",
      "-----slip---------------------------------\n",
      "['slipepd', 'creeper', 'slipe']\n",
      "\n",
      "-----fx---------------------------------\n",
      "['displac', 'fractur', 'nondisplac']\n",
      "\n",
      "-----leg---------------------------------\n",
      "['lowerleg', 'lle', 'thigh']\n",
      "\n",
      "-----fall---------------------------------\n",
      "['fell', 'ontokne', 'tumbl']\n",
      "\n",
      "-----got---------------------------------\n",
      "['itno', 'centrifug', 'becam']\n",
      "\n",
      "-----day---------------------------------\n",
      "['week', 'month', 'dya']\n",
      "\n",
      "-----thumb---------------------------------\n",
      "['finger', 'index', 'thum']\n",
      "\n",
      "-----patient---------------------------------\n",
      "['apati', 'paitent', 'pateint']\n",
      "\n",
      "-----box---------------------------------\n",
      "['abox', 'carton', 'stocker']\n",
      "\n",
      "-----neck---------------------------------\n",
      "['cervicl', 'cervic', 'stiff']\n",
      "\n",
      "-----use---------------------------------\n",
      "['usign', 'wand', 'worj']\n",
      "\n",
      "-----face---------------------------------\n",
      "['tofac', 'facial', 'facedx']\n",
      "\n",
      "-----chest---------------------------------\n",
      "['dxchest', 'che', 'chestwal']\n",
      "\n",
      "-----injur---------------------------------\n",
      "['heinjur', 'hurt', 'barricad']\n",
      "\n",
      "-----subject---------------------------------\n",
      "['arrestingsomeon', 'anarrest', 'issubject']\n",
      "\n",
      "-----burn---------------------------------\n",
      "['tbsa', 'degre', 'bsa']\n",
      "\n",
      "-----needl---------------------------------\n",
      "['insulin', 'heparin', 'butterfli']\n"
     ]
    }
   ],
   "source": [
    "for i in range(50):\n",
    "    w1 = mod.wv.index2word[i]\n",
    "    print(f\"\\n-----{w1}---------------------------------\")\n",
    "    topw = mod.wv.most_similar(w1,topn=3)\n",
    "    topw = [w[0] for w in topw]\n",
    "    print(topw)"
   ]
  },
  {
   "cell_type": "markdown",
   "metadata": {},
   "source": [
    "Least Common"
   ]
  },
  {
   "cell_type": "code",
   "execution_count": 61,
   "metadata": {
    "scrolled": true
   },
   "outputs": [
    {
     "data": {
      "text/plain": [
       "['involvem',\n",
       " 'laceratt',\n",
       " 'electrod',\n",
       " 'limbar',\n",
       " 'paindu',\n",
       " 'handsaw',\n",
       " 'picnic',\n",
       " 'dtr',\n",
       " 'breat',\n",
       " 'bka']"
      ]
     },
     "execution_count": 61,
     "metadata": {},
     "output_type": "execute_result"
    }
   ],
   "source": [
    "vocab_size = len(mod.wv.vocab)\n",
    "mod.wv.index2word[vocab_size - 10:]"
   ]
  },
  {
   "cell_type": "code",
   "execution_count": 62,
   "metadata": {
    "scrolled": true
   },
   "outputs": [
    {
     "data": {
      "text/plain": [
       "[('hedgetrimm', 0.85825115442276),\n",
       " ('gringer', 0.8574104309082031),\n",
       " ('utilityknif', 0.8428343534469604),\n",
       " ('rtmiddl', 0.8319848775863647),\n",
       " ('rdfinger', 0.8302311897277832),\n",
       " ('reciproc', 0.828597366809845),\n",
       " ('jigsaw', 0.8268461227416992),\n",
       " ('cuttign', 0.8258727788925171),\n",
       " ('cutlt', 0.8253872394561768),\n",
       " ('cricular', 0.8191786408424377)]"
      ]
     },
     "execution_count": 62,
     "metadata": {},
     "output_type": "execute_result"
    }
   ],
   "source": [
    "w1 = 'handsaw'\n",
    "mod.wv.most_similar(w1)"
   ]
  },
  {
   "cell_type": "code",
   "execution_count": 63,
   "metadata": {
    "scrolled": false
   },
   "outputs": [
    {
     "data": {
      "text/plain": [
       "[('dermatati', 0.8200404644012451),\n",
       " ('contac', 0.8109698295593262),\n",
       " ('bue', 0.8036850690841675),\n",
       " ('demat', 0.8014063835144043),\n",
       " ('biolog', 0.7961137890815735),\n",
       " ('emplye', 0.7882084846496582),\n",
       " ('expoxur', 0.7848598957061768),\n",
       " ('highli', 0.7815933227539062),\n",
       " ('assaist', 0.769982099533081),\n",
       " ('rashto', 0.7644060850143433)]"
      ]
     },
     "execution_count": 63,
     "metadata": {},
     "output_type": "execute_result"
    }
   ],
   "source": [
    "w1 = 'paindu'\n",
    "mod.wv.most_similar(w1)"
   ]
  },
  {
   "cell_type": "code",
   "execution_count": 74,
   "metadata": {
    "scrolled": true
   },
   "outputs": [],
   "source": [
    "df.to_parquet('data/tokenized.pqt')"
   ]
  },
  {
   "cell_type": "code",
   "execution_count": 75,
   "metadata": {
    "scrolled": true
   },
   "outputs": [],
   "source": [
    "df.to_pickle('data/tokenized.pkl')"
   ]
  },
  {
   "cell_type": "code",
   "execution_count": null,
   "metadata": {},
   "outputs": [],
   "source": []
  },
  {
   "cell_type": "code",
   "execution_count": null,
   "metadata": {},
   "outputs": [],
   "source": []
  },
  {
   "cell_type": "code",
   "execution_count": null,
   "metadata": {},
   "outputs": [],
   "source": []
  },
  {
   "cell_type": "code",
   "execution_count": null,
   "metadata": {},
   "outputs": [],
   "source": []
  },
  {
   "cell_type": "code",
   "execution_count": null,
   "metadata": {},
   "outputs": [],
   "source": []
  },
  {
   "cell_type": "code",
   "execution_count": null,
   "metadata": {},
   "outputs": [],
   "source": []
  },
  {
   "cell_type": "code",
   "execution_count": null,
   "metadata": {},
   "outputs": [],
   "source": []
  },
  {
   "cell_type": "code",
   "execution_count": null,
   "metadata": {},
   "outputs": [],
   "source": []
  }
 ],
 "metadata": {
  "kernelspec": {
   "display_name": "Python 3",
   "language": "python",
   "name": "python3"
  },
  "language_info": {
   "codemirror_mode": {
    "name": "ipython",
    "version": 3
   },
   "file_extension": ".py",
   "mimetype": "text/x-python",
   "name": "python",
   "nbconvert_exporter": "python",
   "pygments_lexer": "ipython3",
   "version": "3.7.4"
  }
 },
 "nbformat": 4,
 "nbformat_minor": 2
}
